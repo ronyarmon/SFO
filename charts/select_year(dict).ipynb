{
 "cells": [
  {
   "cell_type": "raw",
   "metadata": {},
   "source": [
    "Select year to show the relative ratings for each question"
   ]
  },
  {
   "cell_type": "code",
   "execution_count": 5,
   "metadata": {},
   "outputs": [],
   "source": [
    "import json\n",
    "import pandas as pd\n",
    "import altair as alt\n",
    "alt.renderers.enable('notebook')\n",
    "import re\n",
    "import ipywidgets as widgets\n",
    "from __future__ import print_function\n",
    "from ipywidgets import interact, interactive, fixed, interact_manual"
   ]
  },
  {
   "cell_type": "code",
   "execution_count": 6,
   "metadata": {},
   "outputs": [],
   "source": [
    "years_data_dicts = json.load(open(\"years_data_dicts.txt\"))\n",
    "years=[2010, 2011,2012,2013,2014,2015,2016,2017]"
   ]
  },
  {
   "cell_type": "code",
   "execution_count": 7,
   "metadata": {},
   "outputs": [],
   "source": [
    "def year_all_questions(choose_year):\n",
    "\n",
    "    yaqu_f=pd.DataFrame(years_data_dicts[str(choose_year)])\n",
    "    yaqu_f=yaqu_f.sort_index(axis='index', ascending=True)\n",
    "    yaqu_f.index.name = 'Rating'\n",
    "    print ('Data:\\n',yaqu_f)\n",
    "\n",
    "    yaqu_f['Rating']=yaqu_f.index\n",
    "    yaqu_f_m=pd.melt(frame=yaqu_f,id_vars='Rating',value_name='f') #melt yaqu_f to prepare for stacked bar chart\n",
    "    yaqu_f_m.rename(columns = {'variable':'Question'}, inplace = True)\n",
    "    yaqu_f_m=yaqu_f_m[['Question','Rating','f']]\n",
    "\n",
    "    \n",
    "    print ('\\nMarks: 1 (unacceptable) - 5 (outstanding)')\n",
    "    return alt.Chart(yaqu_f_m).mark_bar().encode(\n",
    "        x=alt.X('sum(f)',axis=alt.Axis(format='%', title='Percentage')),\n",
    "        y=alt.Y('Question:O', axis=alt.Axis(title='Question')),\n",
    "        color='Rating:N'    \n",
    "        ).properties(\n",
    "            title=str(choose_year),\n",
    "        )    "
   ]
  },
  {
   "cell_type": "code",
   "execution_count": 8,
   "metadata": {},
   "outputs": [
    {
     "data": {
      "application/vnd.jupyter.widget-view+json": {
       "model_id": "f7fbca23aeb54f3ba76c6447a35dfd30",
       "version_major": 2,
       "version_minor": 0
      },
      "text/plain": [
       "interactive(children=(Dropdown(description='Choose year:', options=(2010, 2011, 2012, 2013, 2014, 2015, 2016, …"
      ]
     },
     "metadata": {},
     "output_type": "display_data"
    },
    {
     "data": {
      "text/plain": [
       "<function __main__.year_all_questions>"
      ]
     },
     "execution_count": 8,
     "metadata": {},
     "output_type": "execute_result"
    }
   ],
   "source": [
    "interact(year_all_questions,choose_year=widgets.Dropdown(options=years,\n",
    "value=2010,description='Choose year:',disabled=False,))"
   ]
  },
  {
   "cell_type": "code",
   "execution_count": 9,
   "metadata": {},
   "outputs": [
    {
     "data": {
      "text/html": [
       "<script>\n",
       "code_show=true; \n",
       "function code_toggle() {\n",
       " if (code_show){\n",
       " $('div.input').hide();\n",
       " } else {\n",
       " $('div.input').show();\n",
       " }\n",
       " code_show = !code_show\n",
       "} \n",
       "$( document ).ready(code_toggle);\n",
       "</script>\n",
       "The raw code for this IPython notebook is by default hidden for easier reading.\n",
       "To toggle on/off the raw code, click <a href=\"javascript:code_toggle()\">here</a>."
      ],
      "text/plain": [
       "<IPython.core.display.HTML object>"
      ]
     },
     "execution_count": 9,
     "metadata": {},
     "output_type": "execute_result"
    }
   ],
   "source": [
    "from IPython.display import HTML\n",
    "HTML('''<script>\n",
    "code_show=true; \n",
    "function code_toggle() {\n",
    " if (code_show){\n",
    " $('div.input').hide();\n",
    " } else {\n",
    " $('div.input').show();\n",
    " }\n",
    " code_show = !code_show\n",
    "} \n",
    "$( document ).ready(code_toggle);\n",
    "</script>\n",
    "The raw code for this IPython notebook is by default hidden for easier reading.\n",
    "To toggle on/off the raw code, click <a href=\"javascript:code_toggle()\">here</a>.''')"
   ]
  }
 ],
 "metadata": {
  "kernelspec": {
   "display_name": "Python 3",
   "language": "python",
   "name": "python3"
  },
  "language_info": {
   "codemirror_mode": {
    "name": "ipython",
    "version": 3
   },
   "file_extension": ".py",
   "mimetype": "text/x-python",
   "name": "python",
   "nbconvert_exporter": "python",
   "pygments_lexer": "ipython3",
   "version": "3.6.4"
  }
 },
 "nbformat": 4,
 "nbformat_minor": 2
}
