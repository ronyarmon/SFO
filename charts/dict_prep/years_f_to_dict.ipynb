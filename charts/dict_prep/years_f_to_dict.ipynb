{
 "cells": [
  {
   "cell_type": "raw",
   "metadata": {},
   "source": [
    "Calculates ratings frequency for all year and stores the results in a dictionary"
   ]
  },
  {
   "cell_type": "code",
   "execution_count": 1,
   "metadata": {},
   "outputs": [],
   "source": [
    "import json\n",
    "import pandas as pd\n",
    "import altair as alt\n",
    "alt.renderers.enable('notebook')\n",
    "import re\n",
    "import ipywidgets as widgets\n",
    "from __future__ import print_function\n",
    "from ipywidgets import interact, interactive, fixed, interact_manual"
   ]
  },
  {
   "cell_type": "code",
   "execution_count": 2,
   "metadata": {},
   "outputs": [],
   "source": [
    "dir_path='//Users/rony/Dropbox/2. projects/SF_airport/Data/years/'\n",
    "data_dfs_dict={}\n",
    "years=[2010, 2011,2012,2013,2014,2015,2016,2017]\n",
    "data={}"
   ]
  },
  {
   "cell_type": "code",
   "execution_count": 5,
   "metadata": {},
   "outputs": [],
   "source": [
    "for index,value in enumerate(years):\n",
    "    file_name=str(value)+'.csv'\n",
    "    file_path=dir_path+file_name\n",
    "    yaqu=pd.read_csv(file_path)\n",
    "    del yaqu['Unnamed: 0'] #questions data for the year selected\n",
    "    \n",
    "    column_headers=yaqu.columns\n",
    "    ratings_list=[]\n",
    "    list_to_row=[]\n",
    "    years_index=[]\n",
    "    yaqu_c=pd.DataFrame() #store ratings frequencies\n",
    "    yaqu_f=pd.DataFrame() #store ratings frequencies\n",
    "    \n",
    "    #count ratings\n",
    "    for index, c_name in enumerate (column_headers): #iterate question columns\n",
    "        ratings=yaqu[c_name].value_counts()\n",
    "        ratings_list=ratings_list+[ratings]\n",
    "        yaqu_c [c_name]=ratings\n",
    "    yaqu_c=yaqu_c.drop(labels=[6,0],axis='index') #drop rows for values 1,6\n",
    "\n",
    "    #calculate and count ratings frequencies\n",
    "    for index, c_name in enumerate (column_headers): #iterate question columns\n",
    "        yaqu_f [c_name]=round (yaqu_c[c_name]/sum(yaqu_c[c_name]),3)\n",
    "    \n",
    "    yaqu_dict=yaqu_f.to_dict()\n",
    "    data[value]=yaqu_dict\n",
    "    \n",
    "json.dump(data, open(\"years_data_dicts.txt\",'w')) #write years data as dictionary"
   ]
  }
 ],
 "metadata": {
  "kernelspec": {
   "display_name": "Python 3",
   "language": "python",
   "name": "python3"
  },
  "language_info": {
   "codemirror_mode": {
    "name": "ipython",
    "version": 3
   },
   "file_extension": ".py",
   "mimetype": "text/x-python",
   "name": "python",
   "nbconvert_exporter": "python",
   "pygments_lexer": "ipython3",
   "version": "3.6.4"
  }
 },
 "nbformat": 4,
 "nbformat_minor": 2
}
