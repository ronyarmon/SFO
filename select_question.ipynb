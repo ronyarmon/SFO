{
 "cells": [
  {
   "cell_type": "raw",
   "metadata": {},
   "source": [
    "Select question to show the relative ratings for all years available"
   ]
  },
  {
   "cell_type": "code",
   "execution_count": 7,
   "metadata": {},
   "outputs": [],
   "source": [
    "import pandas as pd\n",
    "import altair as alt\n",
    "alt.renderers.enable('notebook')\n",
    "import re\n",
    "import ipywidgets as widgets\n",
    "from IPython.display import HTML\n",
    "from ipywidgets import interact, interactive, fixed, interact_manual\n",
    "import ipywidgets as widgets"
   ]
  },
  {
   "cell_type": "code",
   "execution_count": 13,
   "metadata": {},
   "outputs": [
    {
     "name": "stdout",
     "output_type": "stream",
     "text": [
      "0 ALL\n"
     ]
    },
    {
     "name": "stderr",
     "output_type": "stream",
     "text": [
      "/anaconda3/lib/python3.6/site-packages/ipykernel_launcher.py:18: ParserWarning: Falling back to the 'python' engine because the 'c' engine does not support regex separators (separators > 1 char and different from '\\s+' are interpreted as regex); you can avoid this warning by specifying engine='python'.\n"
     ]
    },
    {
     "name": "stdout",
     "output_type": "stream",
     "text": [
      "1 SIGN\n",
      "2 WIFI\n",
      "3 FOOD\n",
      "4 STORE\n",
      "5 SCREENS\n",
      "6 WALKWAYS\n",
      "7 INFODOWN\n",
      "8 INFOUP\n",
      "9 AIRTRAIN\n",
      "10 ROADS\n",
      "11 PARK\n",
      "12 LTPARKING\n",
      "13 RENTAL\n",
      "14 ART\n"
     ]
    }
   ],
   "source": [
    "#Load datasets (csvs) and place in dataframes\n",
    "dir_path='https://github.com/ronyarmon/SFO/tree/master/Data/questions/'\n",
    "data_dfs_dict={}\n",
    "\n",
    "questions=['Airport as a whole', 'Signs & directions inside SFO','Accessing & using free WiFi','Restaurants',\n",
    "           'Retail shops & concessions', 'Information on screens/monitors','Escalators/Elevators/Moving walkways',\n",
    "           'Information booths-Baggage claim','Information booths-Departure area','AirTrain',\n",
    "           'Signs & directions-Roadways','Airport parking facilities','Long term parking lot shuttle',\n",
    "           'Airport rental car center','Artwork and exhibitions']\n",
    "           \n",
    "question_files_names=['ALL','SIGN','WIFI','FOOD','STORE','SCREENS','WALKWAYS', 'INFODOWN','INFOUP',\n",
    "                      'AIRTRAIN','ROADS','PARK','LTPARKING','RENTAL','ART']\n",
    "\n",
    "for index,value in enumerate(question_files_names):\n",
    "    file_name=value+'.csv'\n",
    "    file_path=dir_path+file_name\n",
    "    print (index, value)\n",
    "    data_dfs_dict[questions[index]]=pd.read_csv(file_path,sep=',')\n",
    "    #data_dfs_dict[questions[index]]=pd.read_csv(file_path,error_bad_lines=False)\n",
    "options_list=data_dfs_dict.keys()"
   ]
  },
  {
   "cell_type": "code",
   "execution_count": 14,
   "metadata": {},
   "outputs": [],
   "source": [
    "def question_all_years (choose_question):\n",
    "    #Selection of the WiFi/ not WiFi question\n",
    "\n",
    "    if choose_question !='Accessing & using free WiFi':\n",
    "        years=[2010, 2011,2012,2013,2014,2015,2016,2017]\n",
    "        rows_index= [1,2,3,4,5,6,7,8] #the index for the rows of the calculated frequencies dataframes (qdf_f)\n",
    "    else:\n",
    "        years=[2013,2014,2015,2016,2017]\n",
    "        rows_index= [1,2,3,4,5]\n",
    "    \n",
    "    qdf=data_dfs_dict[choose_question] #qdf=question dataframe\n",
    "    ratings_list=[]\n",
    "    list_to_row=[]\n",
    "    for index, value in enumerate (years): #iterate years dataframes\n",
    "        ratings=qdf[str(value)].value_counts() #get rating counts for the question selected\n",
    "        max_ind= int (max (ratings.index)+1)\n",
    "        for index1 in range (max_ind):\n",
    "            ratings_list=ratings_list+[ratings[index1]] #collect counts for each rating\n",
    "        list_to_row.append(ratings_list)\n",
    "        ratings_list=[]\n",
    "\n",
    "    #Calculate ratings frequencies\n",
    "    qdf_f=pd.DataFrame(list_to_row,columns=['0','1','2','3','4','5','6']) #store frequencies for each year's ratings \n",
    "    del qdf_f ['0'], qdf_f ['6']\n",
    "    qdf_f['year']=years\n",
    "    qdf_f=qdf_f.set_index(qdf_f['year'])\n",
    "    del qdf_f ['year']\n",
    "    qdf_f_t=qdf_f.transpose()\n",
    "    for index, year in enumerate (years): #iterate years dataframes\n",
    "        qdf_f_t[year]= round(qdf_f_t[year]/sum (qdf_f_t[year]),3)\n",
    "    \n",
    "    df_to_print=qdf_f_t.index.name = 'Rating'\n",
    "    print (qdf_f_t)\n",
    "    \n",
    "    print ('Data:\\n',df_to_print)\n",
    "    \n",
    "    #melt qdf_f to prepare for stacked bar chart\n",
    "    qdf_f=qdf_f_t.transpose()\n",
    "    qdf_f['year']=qdf_f.index\n",
    "    qdf_f.index=rows_index\n",
    "    \n",
    "    qdf_f_m=pd.melt (frame=qdf_f, id_vars='year', value_name='f') \n",
    "    qdf_f_m.rename(columns = {'variable':'Rating','year':'Year'}, inplace = True)\n",
    "\n",
    "    #Chart ratings frequencies \n",
    "    print ('Marks: 1 (unacceptable) - 5 (outstanding)')\n",
    "    return alt.Chart(qdf_f_m).mark_bar().encode(\n",
    "                x=alt.X('sum(f)',axis=alt.Axis(format='%', title='Percentage')),\n",
    "                y=alt.Y('Year:O', axis=alt.Axis(title='Year')),\n",
    "                color='Rating'    \n",
    "            ).properties(\n",
    "                title=str(choose_question),\n",
    "            )  "
   ]
  },
  {
   "cell_type": "code",
   "execution_count": 15,
   "metadata": {},
   "outputs": [
    {
     "data": {
      "application/vnd.jupyter.widget-view+json": {
       "model_id": "40d30f06c66f47e0b85513c63294a7d7",
       "version_major": 2,
       "version_minor": 0
      },
      "text/plain": [
       "interactive(children=(Dropdown(description='Question:', options=('Airport as a whole', 'Signs & directions ins…"
      ]
     },
     "metadata": {},
     "output_type": "display_data"
    },
    {
     "data": {
      "text/plain": [
       "<function __main__.question_all_years>"
      ]
     },
     "execution_count": 15,
     "metadata": {},
     "output_type": "execute_result"
    }
   ],
   "source": [
    "interact(question_all_years,choose_question=widgets.Dropdown(options=options_list,\n",
    "value='Airport as a whole',description='Question:',disabled=False,))"
   ]
  },
  {
   "cell_type": "code",
   "execution_count": 101,
   "metadata": {},
   "outputs": [
    {
     "data": {
      "text/html": [
       "<script>\n",
       "code_show=true; \n",
       "function code_toggle() {\n",
       " if (code_show){\n",
       " $('div.input').hide();\n",
       " } else {\n",
       " $('div.input').show();\n",
       " }\n",
       " code_show = !code_show\n",
       "} \n",
       "$( document ).ready(code_toggle);\n",
       "</script>\n",
       "The raw code for this IPython notebook is by default hidden for easier reading.\n",
       "To toggle on/off the raw code, click <a href=\"javascript:code_toggle()\">here</a>."
      ],
      "text/plain": [
       "<IPython.core.display.HTML object>"
      ]
     },
     "execution_count": 101,
     "metadata": {},
     "output_type": "execute_result"
    }
   ],
   "source": [
    "from IPython.display import HTML\n",
    "HTML('''<script>\n",
    "code_show=true; \n",
    "function code_toggle() {\n",
    " if (code_show){\n",
    " $('div.input').hide();\n",
    " } else {\n",
    " $('div.input').show();\n",
    " }\n",
    " code_show = !code_show\n",
    "} \n",
    "$( document ).ready(code_toggle);\n",
    "</script>\n",
    "The raw code for this IPython notebook is by default hidden for easier reading.\n",
    "To toggle on/off the raw code, click <a href=\"javascript:code_toggle()\">here</a>.''')"
   ]
  }
 ],
 "metadata": {
  "kernelspec": {
   "display_name": "Python 3",
   "language": "python",
   "name": "python3"
  },
  "language_info": {
   "codemirror_mode": {
    "name": "ipython",
    "version": 3
   },
   "file_extension": ".py",
   "mimetype": "text/x-python",
   "name": "python",
   "nbconvert_exporter": "python",
   "pygments_lexer": "ipython3",
   "version": "3.6.4"
  }
 },
 "nbformat": 4,
 "nbformat_minor": 2
}
