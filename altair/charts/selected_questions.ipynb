{
 "cells": [
  {
   "cell_type": "code",
   "execution_count": 32,
   "metadata": {
    "scrolled": true
   },
   "outputs": [
    {
     "name": "stdout",
     "output_type": "stream",
     "text": [
      "San Francisco Airport: Ratings for Services (2010-2017)\n",
      "Selection: Questions, All Years\n",
      "Data: SFO annual customer surveys\n",
      "Rating: 1 (unacceptable) - 5 (outstanding)\n"
     ]
    }
   ],
   "source": [
    "print ('San Francisco Airport: Ratings for Services (2010-2017)')\n",
    "print ('Selection: Questions, All Years')\n",
    "print ('Data: SFO annual customer surveys')\n",
    "print ('Rating: 1 (unacceptable) - 5 (outstanding)')"
   ]
  },
  {
   "cell_type": "code",
   "execution_count": 33,
   "metadata": {
    "scrolled": true
   },
   "outputs": [
    {
     "data": {
      "text/plain": [
       "RendererRegistry.enable('notebook')"
      ]
     },
     "execution_count": 33,
     "metadata": {},
     "output_type": "execute_result"
    }
   ],
   "source": [
    "import json\n",
    "import pandas as pd\n",
    "import altair as alt\n",
    "alt.renderers.enable('notebook')"
   ]
  },
  {
   "cell_type": "code",
   "execution_count": 34,
   "metadata": {},
   "outputs": [],
   "source": [
    "questions_data_dicts={\"ALL\": {\"2010\": {\"4\": 0.564, \"3\": 0.228, \"5\": 0.19, \"2\": 0.016, \"1\": 0.002}, \"2011\": {\"4\": 0.532, \"3\": 0.225, \"5\": 0.222, \"2\": 0.017, \"1\": 0.004}, \"2012\": {\"4\": 0.555, \"3\": 0.188, \"5\": 0.237, \"2\": 0.018, \"1\": 0.002}, \"2013\": {\"4\": 0.578, \"3\": 0.19, \"5\": 0.208, \"2\": 0.022, \"1\": 0.002}, \"2014\": {\"4\": 0.563, \"3\": 0.195, \"5\": 0.226, \"2\": 0.014, \"1\": 0.002}, \"2015\": {\"4\": 0.537, \"3\": 0.187, \"5\": 0.263, \"2\": 0.01, \"1\": 0.002}, \"2016\": {\"4\": 0.559, \"3\": 0.17, \"5\": 0.25, \"2\": 0.017, \"1\": 0.002}, \"2017\": {\"4\": 0.561, \"3\": 0.165, \"5\": 0.26, \"2\": 0.012, \"1\": 0.002}}, \"SIGN\": {\"2010\": {\"4\": 0.435, \"5\": 0.281, \"3\": 0.227, \"2\": 0.045, \"1\": 0.013}, \"2011\": {\"4\": 0.446, \"5\": 0.29, \"3\": 0.212, \"2\": 0.045, \"1\": 0.007}, \"2012\": {\"4\": 0.449, \"5\": 0.328, \"3\": 0.183, \"2\": 0.032, \"1\": 0.008}, \"2013\": {\"4\": 0.455, \"5\": 0.291, \"3\": 0.202, \"2\": 0.04, \"1\": 0.011}, \"2014\": {\"4\": 0.434, \"5\": 0.316, \"3\": 0.205, \"2\": 0.036, \"1\": 0.01}, \"2015\": {\"4\": 0.441, \"5\": 0.332, \"3\": 0.191, \"2\": 0.029, \"1\": 0.007}, \"2016\": {\"4\": 0.438, \"5\": 0.338, \"3\": 0.183, \"2\": 0.034, \"1\": 0.006}, \"2017\": {\"4\": 0.444, \"5\": 0.344, \"3\": 0.177, \"2\": 0.029, \"1\": 0.007}}, \"WIFI\": {\"2013\": {\"4\": 0.343, \"5\": 0.285, \"3\": 0.198, \"2\": 0.091, \"1\": 0.084}, \"2014\": {\"4\": 0.327, \"5\": 0.376, \"3\": 0.18, \"2\": 0.064, \"1\": 0.052}, \"2015\": {\"4\": 0.306, \"5\": 0.424, \"3\": 0.182, \"2\": 0.052, \"1\": 0.036}, \"2016\": {\"4\": 0.317, \"5\": 0.431, \"3\": 0.165, \"2\": 0.055, \"1\": 0.031}, \"2017\": {\"4\": 0.316, \"5\": 0.43, \"3\": 0.182, \"2\": 0.049, \"1\": 0.023}}, \"FOOD\": {\"2010\": {\"3\": 0.414, \"4\": 0.38, \"5\": 0.107, \"2\": 0.087, \"1\": 0.012}, \"2011\": {\"3\": 0.364, \"4\": 0.394, \"5\": 0.147, \"2\": 0.081, \"1\": 0.014}, \"2012\": {\"3\": 0.347, \"4\": 0.409, \"5\": 0.165, \"2\": 0.068, \"1\": 0.012}, \"2013\": {\"3\": 0.371, \"4\": 0.389, \"5\": 0.144, \"2\": 0.085, \"1\": 0.01}, \"2014\": {\"3\": 0.357, \"4\": 0.399, \"5\": 0.146, \"2\": 0.085, \"1\": 0.013}, \"2015\": {\"3\": 0.328, \"4\": 0.393, \"5\": 0.192, \"2\": 0.078, \"1\": 0.009}, \"2016\": {\"3\": 0.322, \"4\": 0.38, \"5\": 0.19, \"2\": 0.087, \"1\": 0.021}, \"2017\": {\"3\": 0.337, \"4\": 0.378, \"5\": 0.179, \"2\": 0.09, \"1\": 0.016}}, \"STORE\": {\"2010\": {\"3\": 0.44, \"4\": 0.356, \"5\": 0.114, \"2\": 0.081, \"1\": 0.009}, \"2011\": {\"3\": 0.386, \"4\": 0.38, \"5\": 0.144, \"2\": 0.077, \"1\": 0.014}, \"2012\": {\"3\": 0.367, \"4\": 0.407, \"5\": 0.149, \"2\": 0.068, \"1\": 0.009}, \"2013\": {\"3\": 0.392, \"4\": 0.382, \"5\": 0.142, \"2\": 0.075, \"1\": 0.009}, \"2014\": {\"3\": 0.37, \"4\": 0.398, \"5\": 0.147, \"2\": 0.074, \"1\": 0.011}, \"2015\": {\"3\": 0.372, \"4\": 0.379, \"5\": 0.182, \"2\": 0.063, \"1\": 0.005}, \"2016\": {\"3\": 0.342, \"4\": 0.38, \"5\": 0.187, \"2\": 0.079, \"1\": 0.012}, \"2017\": {\"3\": 0.363, \"4\": 0.39, \"5\": 0.17, \"2\": 0.065, \"1\": 0.012}}, \"SCREENS\": {\"2010\": {\"4\": 0.406, \"5\": 0.285, \"3\": 0.252, \"2\": 0.047, \"1\": 0.009}, \"2011\": {\"4\": 0.422, \"5\": 0.318, \"3\": 0.224, \"2\": 0.029, \"1\": 0.007}, \"2012\": {\"4\": 0.425, \"5\": 0.354, \"3\": 0.189, \"2\": 0.025, \"1\": 0.007}, \"2013\": {\"4\": 0.44, \"5\": 0.327, \"3\": 0.2, \"2\": 0.029, \"1\": 0.005}, \"2014\": {\"4\": 0.426, \"5\": 0.329, \"3\": 0.218, \"2\": 0.023, \"1\": 0.004}, \"2015\": {\"4\": 0.415, \"5\": 0.364, \"3\": 0.194, \"2\": 0.022, \"1\": 0.005}, \"2016\": {\"4\": 0.419, \"5\": 0.368, \"3\": 0.181, \"2\": 0.027, \"1\": 0.005}, \"2017\": {\"4\": 0.423, \"5\": 0.362, \"3\": 0.188, \"2\": 0.021, \"1\": 0.005}}, \"WALKWAYS\": {\"2010\": {\"4\": 0.421, \"5\": 0.328, \"3\": 0.222, \"2\": 0.026, \"1\": 0.003}, \"2011\": {\"4\": 0.432, \"5\": 0.317, \"3\": 0.229, \"2\": 0.02, \"1\": 0.003}, \"2012\": {\"4\": 0.43, \"5\": 0.367, \"3\": 0.179, \"2\": 0.021, \"1\": 0.002}, \"2013\": {\"4\": 0.446, \"5\": 0.333, \"3\": 0.192, \"2\": 0.023, \"1\": 0.007}, \"2014\": {\"4\": 0.431, \"5\": 0.342, \"3\": 0.201, \"2\": 0.021, \"1\": 0.004}, \"2015\": {\"4\": 0.419, \"5\": 0.37, \"3\": 0.188, \"2\": 0.019, \"1\": 0.004}, \"2016\": {\"4\": 0.414, \"5\": 0.381, \"3\": 0.175, \"2\": 0.024, \"1\": 0.006}, \"2017\": {\"4\": 0.422, \"5\": 0.378, \"3\": 0.175, \"2\": 0.019, \"1\": 0.006}}, \"INFODOWN\": {\"2010\": {\"4\": 0.383, \"3\": 0.352, \"5\": 0.19, \"2\": 0.064, \"1\": 0.011}, \"2011\": {\"4\": 0.367, \"3\": 0.345, \"5\": 0.22, \"2\": 0.054, \"1\": 0.014}, \"2012\": {\"4\": 0.387, \"3\": 0.304, \"5\": 0.249, \"2\": 0.046, \"1\": 0.014}, \"2013\": {\"4\": 0.376, \"3\": 0.316, \"5\": 0.245, \"2\": 0.051, \"1\": 0.013}, \"2014\": {\"4\": 0.388, \"3\": 0.316, \"5\": 0.252, \"2\": 0.032, \"1\": 0.011}, \"2015\": {\"4\": 0.359, \"3\": 0.299, \"5\": 0.296, \"2\": 0.037, \"1\": 0.01}, \"2016\": {\"4\": 0.373, \"3\": 0.258, \"5\": 0.314, \"2\": 0.044, \"1\": 0.011}, \"2017\": {\"4\": 0.379, \"3\": 0.259, \"5\": 0.296, \"2\": 0.053, \"1\": 0.013}}, \"INFOUP\": {\"2010\": {\"4\": 0.397, \"3\": 0.339, \"5\": 0.201, \"2\": 0.053, \"1\": 0.009}, \"2011\": {\"4\": 0.377, \"3\": 0.335, \"5\": 0.226, \"2\": 0.05, \"1\": 0.012}, \"2012\": {\"4\": 0.373, \"3\": 0.296, \"5\": 0.276, \"2\": 0.044, \"1\": 0.012}, \"2013\": {\"4\": 0.395, \"3\": 0.3, \"5\": 0.242, \"2\": 0.052, \"1\": 0.011}, \"2014\": {\"4\": 0.39, \"3\": 0.317, \"5\": 0.258, \"2\": 0.026, \"1\": 0.009}, \"2015\": {\"4\": 0.36, \"3\": 0.286, \"5\": 0.314, \"2\": 0.03, \"1\": 0.011}, \"2016\": {\"4\": 0.374, \"3\": 0.253, \"5\": 0.322, \"2\": 0.04, \"1\": 0.011}, \"2017\": {\"4\": 0.383, \"3\": 0.254, \"5\": 0.297, \"2\": 0.053, \"1\": 0.013}}, \"AIRTRAIN\": {\"2010\": {\"4\": 0.428, \"5\": 0.379, \"3\": 0.154, \"2\": 0.033, \"1\": 0.007}, \"2011\": {\"4\": 0.404, \"5\": 0.362, \"3\": 0.197, \"2\": 0.027, \"1\": 0.01}, \"2012\": {\"4\": 0.409, \"5\": 0.359, \"3\": 0.185, \"2\": 0.036, \"1\": 0.01}, \"2013\": {\"4\": 0.451, \"5\": 0.354, \"3\": 0.168, \"2\": 0.021, \"1\": 0.006}, \"2014\": {\"4\": 0.426, \"5\": 0.35, \"3\": 0.187, \"2\": 0.028, \"1\": 0.009}, \"2015\": {\"4\": 0.393, \"5\": 0.386, \"3\": 0.184, \"2\": 0.03, \"1\": 0.008}, \"2016\": {\"4\": 0.378, \"5\": 0.405, \"3\": 0.184, \"2\": 0.025, \"1\": 0.008}, \"2017\": {\"4\": 0.406, \"5\": 0.374, \"3\": 0.185, \"2\": 0.023, \"1\": 0.012}}, \"ROADS\": {\"2010\": {\"4\": 0.452, \"5\": 0.263, \"3\": 0.217, \"2\": 0.056, \"1\": 0.011}, \"2011\": {\"4\": 0.426, \"5\": 0.279, \"3\": 0.241, \"2\": 0.045, \"1\": 0.009}, \"2012\": {\"4\": 0.437, \"5\": 0.274, \"3\": 0.225, \"2\": 0.056, \"1\": 0.008}, \"2013\": {\"4\": 0.449, \"5\": 0.273, \"3\": 0.219, \"2\": 0.051, \"1\": 0.008}, \"2014\": {\"4\": 0.442, \"5\": 0.287, \"3\": 0.215, \"2\": 0.046, \"1\": 0.011}, \"2015\": {\"4\": 0.403, \"5\": 0.328, \"3\": 0.212, \"2\": 0.045, \"1\": 0.012}, \"2016\": {\"4\": 0.398, \"5\": 0.334, \"3\": 0.215, \"2\": 0.043, \"1\": 0.01}, \"2017\": {\"4\": 0.428, \"5\": 0.32, \"3\": 0.203, \"2\": 0.038, \"1\": 0.011}}, \"PARK\": {\"2010\": {\"4\": 0.43, \"3\": 0.275, \"5\": 0.212, \"2\": 0.061, \"1\": 0.021}, \"2011\": {\"4\": 0.399, \"3\": 0.308, \"5\": 0.228, \"2\": 0.054, \"1\": 0.01}, \"2012\": {\"4\": 0.408, \"3\": 0.277, \"5\": 0.243, \"2\": 0.058, \"1\": 0.014}, \"2013\": {\"4\": 0.433, \"3\": 0.284, \"5\": 0.221, \"2\": 0.052, \"1\": 0.01}, \"2014\": {\"4\": 0.405, \"3\": 0.273, \"5\": 0.243, \"2\": 0.055, \"1\": 0.023}, \"2015\": {\"4\": 0.376, \"3\": 0.258, \"5\": 0.286, \"2\": 0.07, \"1\": 0.01}, \"2016\": {\"4\": 0.4, \"3\": 0.26, \"5\": 0.284, \"2\": 0.049, \"1\": 0.006}, \"2017\": {\"4\": 0.383, \"3\": 0.274, \"5\": 0.282, \"2\": 0.046, \"1\": 0.015}}, \"LTPARKING\": {\"2010\": {\"4\": 0.406, \"3\": 0.292, \"5\": 0.233, \"2\": 0.052, \"1\": 0.017}, \"2011\": {\"4\": 0.357, \"3\": 0.336, \"5\": 0.244, \"2\": 0.047, \"1\": 0.016}, \"2012\": {\"4\": 0.381, \"3\": 0.303, \"5\": 0.247, \"2\": 0.05, \"1\": 0.02}, \"2013\": {\"4\": 0.391, \"3\": 0.292, \"5\": 0.243, \"2\": 0.06, \"1\": 0.014}, \"2014\": {\"4\": 0.392, \"3\": 0.275, \"5\": 0.25, \"2\": 0.065, \"1\": 0.019}, \"2015\": {\"4\": 0.362, \"3\": 0.264, \"5\": 0.305, \"2\": 0.056, \"1\": 0.013}, \"2016\": {\"4\": 0.351, \"3\": 0.277, \"5\": 0.293, \"2\": 0.065, \"1\": 0.015}, \"2017\": {\"4\": 0.376, \"3\": 0.26, \"5\": 0.285, \"2\": 0.059, \"1\": 0.019}}, \"RENTAL\": {\"2010\": {\"4\": 0.409, \"3\": 0.254, \"5\": 0.23, \"2\": 0.08, \"1\": 0.028}, \"2011\": {\"4\": 0.344, \"3\": 0.311, \"5\": 0.243, \"2\": 0.079, \"1\": 0.023}, \"2012\": {\"4\": 0.417, \"3\": 0.254, \"5\": 0.243, \"2\": 0.068, \"1\": 0.019}, \"2013\": {\"4\": 0.389, \"3\": 0.277, \"5\": 0.255, \"2\": 0.056, \"1\": 0.022}, \"2014\": {\"4\": 0.384, \"3\": 0.259, \"5\": 0.241, \"2\": 0.086, \"1\": 0.03}, \"2015\": {\"4\": 0.365, \"3\": 0.251, \"5\": 0.305, \"2\": 0.06, \"1\": 0.019}, \"2016\": {\"4\": 0.366, \"3\": 0.241, \"5\": 0.304, \"2\": 0.067, \"1\": 0.022}, \"2017\": {\"4\": 0.406, \"3\": 0.245, \"5\": 0.27, \"2\": 0.056, \"1\": 0.024}}, \"ART\": {\"2010\": {\"4\": 0.402, \"3\": 0.311, \"5\": 0.232, \"2\": 0.049, \"1\": 0.006}, \"2011\": {\"4\": 0.382, \"3\": 0.298, \"5\": 0.273, \"2\": 0.04, \"1\": 0.006}, \"2012\": {\"4\": 0.412, \"3\": 0.251, \"5\": 0.303, \"2\": 0.031, \"1\": 0.003}, \"2013\": {\"4\": 0.398, \"3\": 0.27, \"5\": 0.295, \"2\": 0.028, \"1\": 0.008}, \"2014\": {\"4\": 0.384, \"3\": 0.278, \"5\": 0.292, \"2\": 0.04, \"1\": 0.007}, \"2015\": {\"4\": 0.379, \"3\": 0.243, \"5\": 0.345, \"2\": 0.027, \"1\": 0.007}, \"2016\": {\"4\": 0.386, \"3\": 0.243, \"5\": 0.328, \"2\": 0.035, \"1\": 0.009}, \"2017\": {\"4\": 0.391, \"3\": 0.242, \"5\": 0.326, \"2\": 0.034, \"1\": 0.008}}}"
   ]
  },
  {
   "cell_type": "code",
   "execution_count": 35,
   "metadata": {},
   "outputs": [],
   "source": [
    "questions_dict={'Airport as a whole': 'ALL', 'Signs & directions inside SFO':'SIGN', 'Accessing & using free WiFi':'WIFI',\n",
    "             'Restaurants': 'FOOD', 'Retail shops & concessions': 'STORE', 'Information on screens/monitors': 'SCREENS',\n",
    "             'Escalators/Elevators/Moving walkways': 'WALKWAYS','Information booths-Baggage claim': 'INFODOWN',\n",
    "             'Information booths-Departure area':'INFOUP','AirTrain':'AIRTRAIN', \n",
    "             'Signs & directions-Roadways':'ROADS','Airport parking facilities':'PARK', \n",
    "              'Long term parking lot shuttle':'LTPARKING', 'Airport rental car center': 'RENTAL', \n",
    "              'Artwork and exhibitions':'ART'}"
   ]
  },
  {
   "cell_type": "code",
   "execution_count": 36,
   "metadata": {
    "scrolled": true
   },
   "outputs": [
    {
     "name": "stdout",
     "output_type": "stream",
     "text": [
      "Question: Airport as a whole \n",
      "Data:\n",
      "          2010   2011   2012   2013   2014   2015   2016   2017\n",
      "Rating                                                        \n",
      "1       0.002  0.004  0.002  0.002  0.002  0.002  0.002  0.002\n",
      "2       0.016  0.017  0.018  0.022  0.014  0.010  0.017  0.012\n",
      "3       0.228  0.225  0.188  0.190  0.195  0.187  0.170  0.165\n",
      "4       0.564  0.532  0.555  0.578  0.563  0.537  0.559  0.561\n",
      "5       0.190  0.222  0.237  0.208  0.226  0.263  0.250  0.260\n"
     ]
    },
    {
     "data": {
      "text/html": [
       "<div class=\"vega-embed\" id=\"95b3500e-10c3-4760-a3cc-e3a2b14055b1\"></div>\n",
       "\n",
       "<style>\n",
       ".vega-embed .vega-actions > a {\n",
       "    transition: opacity 200ms ease-in;\n",
       "    opacity: 0.3;\n",
       "    margin-right: 0.6em;\n",
       "    color: #444;\n",
       "    text-decoration: none;\n",
       "}\n",
       "\n",
       ".vega-embed .vega-actions > a:hover {\n",
       "    color: #000;\n",
       "    text-decoration: underline;\n",
       "}\n",
       "\n",
       ".vega-embed:hover .vega-actions > a {\n",
       "    opacity: 1;\n",
       "    transition: 0s;\n",
       "}\n",
       "\n",
       ".vega-embed .error p {\n",
       "    color: firebrick;\n",
       "    font-size: 1.2em;\n",
       "}\n",
       "</style>\n"
      ]
     },
     "metadata": {
      "jupyter-vega3": "#95b3500e-10c3-4760-a3cc-e3a2b14055b1"
     },
     "output_type": "display_data"
    },
    {
     "data": {
      "application/javascript": [
       "var spec = {\"config\": {\"view\": {\"width\": 400, \"height\": 300}}, \"data\": {\"values\": [{\"Question\": \"2010\", \"Rating\": \"1\", \"f\": 0.002}, {\"Question\": \"2010\", \"Rating\": \"2\", \"f\": 0.016}, {\"Question\": \"2010\", \"Rating\": \"3\", \"f\": 0.228}, {\"Question\": \"2010\", \"Rating\": \"4\", \"f\": 0.564}, {\"Question\": \"2010\", \"Rating\": \"5\", \"f\": 0.19}, {\"Question\": \"2011\", \"Rating\": \"1\", \"f\": 0.004}, {\"Question\": \"2011\", \"Rating\": \"2\", \"f\": 0.017}, {\"Question\": \"2011\", \"Rating\": \"3\", \"f\": 0.225}, {\"Question\": \"2011\", \"Rating\": \"4\", \"f\": 0.532}, {\"Question\": \"2011\", \"Rating\": \"5\", \"f\": 0.222}, {\"Question\": \"2012\", \"Rating\": \"1\", \"f\": 0.002}, {\"Question\": \"2012\", \"Rating\": \"2\", \"f\": 0.018}, {\"Question\": \"2012\", \"Rating\": \"3\", \"f\": 0.188}, {\"Question\": \"2012\", \"Rating\": \"4\", \"f\": 0.555}, {\"Question\": \"2012\", \"Rating\": \"5\", \"f\": 0.237}, {\"Question\": \"2013\", \"Rating\": \"1\", \"f\": 0.002}, {\"Question\": \"2013\", \"Rating\": \"2\", \"f\": 0.022}, {\"Question\": \"2013\", \"Rating\": \"3\", \"f\": 0.19}, {\"Question\": \"2013\", \"Rating\": \"4\", \"f\": 0.578}, {\"Question\": \"2013\", \"Rating\": \"5\", \"f\": 0.208}, {\"Question\": \"2014\", \"Rating\": \"1\", \"f\": 0.002}, {\"Question\": \"2014\", \"Rating\": \"2\", \"f\": 0.014}, {\"Question\": \"2014\", \"Rating\": \"3\", \"f\": 0.195}, {\"Question\": \"2014\", \"Rating\": \"4\", \"f\": 0.563}, {\"Question\": \"2014\", \"Rating\": \"5\", \"f\": 0.226}, {\"Question\": \"2015\", \"Rating\": \"1\", \"f\": 0.002}, {\"Question\": \"2015\", \"Rating\": \"2\", \"f\": 0.01}, {\"Question\": \"2015\", \"Rating\": \"3\", \"f\": 0.187}, {\"Question\": \"2015\", \"Rating\": \"4\", \"f\": 0.537}, {\"Question\": \"2015\", \"Rating\": \"5\", \"f\": 0.263}, {\"Question\": \"2016\", \"Rating\": \"1\", \"f\": 0.002}, {\"Question\": \"2016\", \"Rating\": \"2\", \"f\": 0.017}, {\"Question\": \"2016\", \"Rating\": \"3\", \"f\": 0.17}, {\"Question\": \"2016\", \"Rating\": \"4\", \"f\": 0.559}, {\"Question\": \"2016\", \"Rating\": \"5\", \"f\": 0.25}, {\"Question\": \"2017\", \"Rating\": \"1\", \"f\": 0.002}, {\"Question\": \"2017\", \"Rating\": \"2\", \"f\": 0.012}, {\"Question\": \"2017\", \"Rating\": \"3\", \"f\": 0.165}, {\"Question\": \"2017\", \"Rating\": \"4\", \"f\": 0.561}, {\"Question\": \"2017\", \"Rating\": \"5\", \"f\": 0.26}]}, \"mark\": \"bar\", \"encoding\": {\"color\": {\"type\": \"nominal\", \"field\": \"Rating\"}, \"x\": {\"type\": \"quantitative\", \"aggregate\": \"sum\", \"axis\": {\"format\": \"%\", \"title\": \"Percentage\"}, \"field\": \"f\"}, \"y\": {\"type\": \"ordinal\", \"axis\": {\"title\": \"Question\"}, \"field\": \"Question\"}}, \"title\": \"Airport as a whole\", \"$schema\": \"https://vega.github.io/schema/vega-lite/v2.4.1.json\"};\n",
       "var opt = {};\n",
       "var selector = \"#95b3500e-10c3-4760-a3cc-e3a2b14055b1\";\n",
       "var type = \"vega-lite\";\n",
       "\n",
       "var output_area = this;\n",
       "\n",
       "require(['nbextensions/jupyter-vega3/index'], function(vega) {\n",
       "  vega.render(selector, spec, type, opt, output_area);\n",
       "}, function (err) {\n",
       "  if (err.requireType !== 'scripterror') {\n",
       "    throw(err);\n",
       "  }\n",
       "});\n"
      ]
     },
     "metadata": {
      "jupyter-vega3": "#95b3500e-10c3-4760-a3cc-e3a2b14055b1"
     },
     "output_type": "display_data"
    },
    {
     "data": {
      "image/png": "[encoded data removed]"
     },
     "metadata": {
      "jupyter-vega3": "#95b3500e-10c3-4760-a3cc-e3a2b14055b1"
     },
     "output_type": "display_data"
    },
    {
     "data": {
      "text/plain": []
     },
     "execution_count": 36,
     "metadata": {},
     "output_type": "execute_result"
    }
   ],
   "source": [
    "question='Airport as a whole'\n",
    "question_code=questions_dict [question]\n",
    "\n",
    "yaqu_f=pd.DataFrame(questions_data_dicts[question_code])\n",
    "yaqu_f=yaqu_f.sort_index(axis='index', ascending=True)\n",
    "yaqu_f.index.name = 'Rating'\n",
    "print ('Question:',question,'\\nData:\\n',yaqu_f)\n",
    "\n",
    "yaqu_f['Rating']=yaqu_f.index\n",
    "yaqu_f_m=pd.melt(frame=yaqu_f,id_vars='Rating',value_name='f') #melt yaqu_f to prepare for stacked bar chart\n",
    "yaqu_f_m.rename(columns = {'variable':'Question'}, inplace = True)\n",
    "yaqu_f_m=yaqu_f_m[['Question','Rating','f']]\n",
    "\n",
    "alt.Chart(yaqu_f_m).mark_bar().encode(\n",
    "        x=alt.X('sum(f)',axis=alt.Axis(format='%', title='Percentage')),\n",
    "        y=alt.Y('Question:O', axis=alt.Axis(title='Question')),\n",
    "        color='Rating:N'    \n",
    "        ).properties(\n",
    "             title=str(question),\n",
    "        )"
   ]
  },
  {
   "cell_type": "code",
   "execution_count": 37,
   "metadata": {
    "scrolled": true
   },
   "outputs": [
    {
     "name": "stdout",
     "output_type": "stream",
     "text": [
      "Question: Airport parking facilities \n",
      "Data:\n",
      "          2010   2011   2012   2013   2014   2015   2016   2017\n",
      "Rating                                                        \n",
      "1       0.021  0.010  0.014  0.010  0.023  0.010  0.006  0.015\n",
      "2       0.061  0.054  0.058  0.052  0.055  0.070  0.049  0.046\n",
      "3       0.275  0.308  0.277  0.284  0.273  0.258  0.260  0.274\n",
      "4       0.430  0.399  0.408  0.433  0.405  0.376  0.400  0.383\n",
      "5       0.212  0.228  0.243  0.221  0.243  0.286  0.284  0.282\n"
     ]
    },
    {
     "data": {
      "text/html": [
       "<div class=\"vega-embed\" id=\"d1900292-9880-49d1-af81-b9cd403e7eab\"></div>\n",
       "\n",
       "<style>\n",
       ".vega-embed .vega-actions > a {\n",
       "    transition: opacity 200ms ease-in;\n",
       "    opacity: 0.3;\n",
       "    margin-right: 0.6em;\n",
       "    color: #444;\n",
       "    text-decoration: none;\n",
       "}\n",
       "\n",
       ".vega-embed .vega-actions > a:hover {\n",
       "    color: #000;\n",
       "    text-decoration: underline;\n",
       "}\n",
       "\n",
       ".vega-embed:hover .vega-actions > a {\n",
       "    opacity: 1;\n",
       "    transition: 0s;\n",
       "}\n",
       "\n",
       ".vega-embed .error p {\n",
       "    color: firebrick;\n",
       "    font-size: 1.2em;\n",
       "}\n",
       "</style>\n"
      ]
     },
     "metadata": {
      "jupyter-vega3": "#d1900292-9880-49d1-af81-b9cd403e7eab"
     },
     "output_type": "display_data"
    },
    {
     "data": {
      "application/javascript": [
       "var spec = {\"config\": {\"view\": {\"width\": 400, \"height\": 300}}, \"data\": {\"values\": [{\"Question\": \"2010\", \"Rating\": \"1\", \"f\": 0.021}, {\"Question\": \"2010\", \"Rating\": \"2\", \"f\": 0.061}, {\"Question\": \"2010\", \"Rating\": \"3\", \"f\": 0.275}, {\"Question\": \"2010\", \"Rating\": \"4\", \"f\": 0.43}, {\"Question\": \"2010\", \"Rating\": \"5\", \"f\": 0.212}, {\"Question\": \"2011\", \"Rating\": \"1\", \"f\": 0.01}, {\"Question\": \"2011\", \"Rating\": \"2\", \"f\": 0.054}, {\"Question\": \"2011\", \"Rating\": \"3\", \"f\": 0.308}, {\"Question\": \"2011\", \"Rating\": \"4\", \"f\": 0.399}, {\"Question\": \"2011\", \"Rating\": \"5\", \"f\": 0.228}, {\"Question\": \"2012\", \"Rating\": \"1\", \"f\": 0.014}, {\"Question\": \"2012\", \"Rating\": \"2\", \"f\": 0.058}, {\"Question\": \"2012\", \"Rating\": \"3\", \"f\": 0.277}, {\"Question\": \"2012\", \"Rating\": \"4\", \"f\": 0.408}, {\"Question\": \"2012\", \"Rating\": \"5\", \"f\": 0.243}, {\"Question\": \"2013\", \"Rating\": \"1\", \"f\": 0.01}, {\"Question\": \"2013\", \"Rating\": \"2\", \"f\": 0.052}, {\"Question\": \"2013\", \"Rating\": \"3\", \"f\": 0.284}, {\"Question\": \"2013\", \"Rating\": \"4\", \"f\": 0.433}, {\"Question\": \"2013\", \"Rating\": \"5\", \"f\": 0.221}, {\"Question\": \"2014\", \"Rating\": \"1\", \"f\": 0.023}, {\"Question\": \"2014\", \"Rating\": \"2\", \"f\": 0.055}, {\"Question\": \"2014\", \"Rating\": \"3\", \"f\": 0.273}, {\"Question\": \"2014\", \"Rating\": \"4\", \"f\": 0.405}, {\"Question\": \"2014\", \"Rating\": \"5\", \"f\": 0.243}, {\"Question\": \"2015\", \"Rating\": \"1\", \"f\": 0.01}, {\"Question\": \"2015\", \"Rating\": \"2\", \"f\": 0.07}, {\"Question\": \"2015\", \"Rating\": \"3\", \"f\": 0.258}, {\"Question\": \"2015\", \"Rating\": \"4\", \"f\": 0.376}, {\"Question\": \"2015\", \"Rating\": \"5\", \"f\": 0.286}, {\"Question\": \"2016\", \"Rating\": \"1\", \"f\": 0.006}, {\"Question\": \"2016\", \"Rating\": \"2\", \"f\": 0.049}, {\"Question\": \"2016\", \"Rating\": \"3\", \"f\": 0.26}, {\"Question\": \"2016\", \"Rating\": \"4\", \"f\": 0.4}, {\"Question\": \"2016\", \"Rating\": \"5\", \"f\": 0.284}, {\"Question\": \"2017\", \"Rating\": \"1\", \"f\": 0.015}, {\"Question\": \"2017\", \"Rating\": \"2\", \"f\": 0.046}, {\"Question\": \"2017\", \"Rating\": \"3\", \"f\": 0.274}, {\"Question\": \"2017\", \"Rating\": \"4\", \"f\": 0.383}, {\"Question\": \"2017\", \"Rating\": \"5\", \"f\": 0.282}]}, \"mark\": \"bar\", \"encoding\": {\"color\": {\"type\": \"nominal\", \"field\": \"Rating\"}, \"x\": {\"type\": \"quantitative\", \"aggregate\": \"sum\", \"axis\": {\"format\": \"%\", \"title\": \"Percentage\"}, \"field\": \"f\"}, \"y\": {\"type\": \"ordinal\", \"axis\": {\"title\": \"Question\"}, \"field\": \"Question\"}}, \"title\": \"Airport parking facilities\", \"$schema\": \"https://vega.github.io/schema/vega-lite/v2.4.1.json\"};\n",
       "var opt = {};\n",
       "var selector = \"#d1900292-9880-49d1-af81-b9cd403e7eab\";\n",
       "var type = \"vega-lite\";\n",
       "\n",
       "var output_area = this;\n",
       "\n",
       "require(['nbextensions/jupyter-vega3/index'], function(vega) {\n",
       "  vega.render(selector, spec, type, opt, output_area);\n",
       "}, function (err) {\n",
       "  if (err.requireType !== 'scripterror') {\n",
       "    throw(err);\n",
       "  }\n",
       "});\n"
      ]
     },
     "metadata": {
      "jupyter-vega3": "#d1900292-9880-49d1-af81-b9cd403e7eab"
     },
     "output_type": "display_data"
    },
    {
     "data": {
      "text/plain": []
     },
     "execution_count": 37,
     "metadata": {},
     "output_type": "execute_result"
    },
    {
     "data": {
      "image/png": "[encoded data removed]"
     },
     "metadata": {
      "jupyter-vega3": "#d1900292-9880-49d1-af81-b9cd403e7eab"
     },
     "output_type": "display_data"
    }
   ],
   "source": [
    "question='Airport parking facilities'\n",
    "question_code=questions_dict [question]\n",
    "\n",
    "yaqu_f=pd.DataFrame(questions_data_dicts[question_code])\n",
    "yaqu_f=yaqu_f.sort_index(axis='index', ascending=True)\n",
    "yaqu_f.index.name = 'Rating'\n",
    "print ('Question:',question,'\\nData:\\n',yaqu_f)\n",
    "\n",
    "yaqu_f['Rating']=yaqu_f.index\n",
    "yaqu_f_m=pd.melt(frame=yaqu_f,id_vars='Rating',value_name='f') #melt yaqu_f to prepare for stacked bar chart\n",
    "yaqu_f_m.rename(columns = {'variable':'Question'}, inplace = True)\n",
    "yaqu_f_m=yaqu_f_m[['Question','Rating','f']]\n",
    "\n",
    "alt.Chart(yaqu_f_m).mark_bar().encode(\n",
    "        x=alt.X('sum(f)',axis=alt.Axis(format='%', title='Percentage')),\n",
    "        y=alt.Y('Question:O', axis=alt.Axis(title='Question')),\n",
    "        color='Rating:N'    \n",
    "        ).properties(\n",
    "             title=str(question),\n",
    "        )"
   ]
  },
  {
   "cell_type": "code",
   "execution_count": 38,
   "metadata": {
    "scrolled": true
   },
   "outputs": [
    {
     "name": "stdout",
     "output_type": "stream",
     "text": [
      "Question: Retail shops & concessions \n",
      "Data:\n",
      "          2010   2011   2012   2013   2014   2015   2016   2017\n",
      "Rating                                                        \n",
      "1       0.009  0.014  0.009  0.009  0.011  0.005  0.012  0.012\n",
      "2       0.081  0.077  0.068  0.075  0.074  0.063  0.079  0.065\n",
      "3       0.440  0.386  0.367  0.392  0.370  0.372  0.342  0.363\n",
      "4       0.356  0.380  0.407  0.382  0.398  0.379  0.380  0.390\n",
      "5       0.114  0.144  0.149  0.142  0.147  0.182  0.187  0.170\n"
     ]
    },
    {
     "data": {
      "text/html": [
       "<div class=\"vega-embed\" id=\"df8452d8-677a-4b60-a900-9a90429c33a2\"></div>\n",
       "\n",
       "<style>\n",
       ".vega-embed .vega-actions > a {\n",
       "    transition: opacity 200ms ease-in;\n",
       "    opacity: 0.3;\n",
       "    margin-right: 0.6em;\n",
       "    color: #444;\n",
       "    text-decoration: none;\n",
       "}\n",
       "\n",
       ".vega-embed .vega-actions > a:hover {\n",
       "    color: #000;\n",
       "    text-decoration: underline;\n",
       "}\n",
       "\n",
       ".vega-embed:hover .vega-actions > a {\n",
       "    opacity: 1;\n",
       "    transition: 0s;\n",
       "}\n",
       "\n",
       ".vega-embed .error p {\n",
       "    color: firebrick;\n",
       "    font-size: 1.2em;\n",
       "}\n",
       "</style>\n"
      ]
     },
     "metadata": {
      "jupyter-vega3": "#df8452d8-677a-4b60-a900-9a90429c33a2"
     },
     "output_type": "display_data"
    },
    {
     "data": {
      "application/javascript": [
       "var spec = {\"config\": {\"view\": {\"width\": 400, \"height\": 300}}, \"data\": {\"values\": [{\"Question\": \"2010\", \"Rating\": \"1\", \"f\": 0.009}, {\"Question\": \"2010\", \"Rating\": \"2\", \"f\": 0.081}, {\"Question\": \"2010\", \"Rating\": \"3\", \"f\": 0.44}, {\"Question\": \"2010\", \"Rating\": \"4\", \"f\": 0.356}, {\"Question\": \"2010\", \"Rating\": \"5\", \"f\": 0.114}, {\"Question\": \"2011\", \"Rating\": \"1\", \"f\": 0.014}, {\"Question\": \"2011\", \"Rating\": \"2\", \"f\": 0.077}, {\"Question\": \"2011\", \"Rating\": \"3\", \"f\": 0.386}, {\"Question\": \"2011\", \"Rating\": \"4\", \"f\": 0.38}, {\"Question\": \"2011\", \"Rating\": \"5\", \"f\": 0.144}, {\"Question\": \"2012\", \"Rating\": \"1\", \"f\": 0.009}, {\"Question\": \"2012\", \"Rating\": \"2\", \"f\": 0.068}, {\"Question\": \"2012\", \"Rating\": \"3\", \"f\": 0.367}, {\"Question\": \"2012\", \"Rating\": \"4\", \"f\": 0.407}, {\"Question\": \"2012\", \"Rating\": \"5\", \"f\": 0.149}, {\"Question\": \"2013\", \"Rating\": \"1\", \"f\": 0.009}, {\"Question\": \"2013\", \"Rating\": \"2\", \"f\": 0.075}, {\"Question\": \"2013\", \"Rating\": \"3\", \"f\": 0.392}, {\"Question\": \"2013\", \"Rating\": \"4\", \"f\": 0.382}, {\"Question\": \"2013\", \"Rating\": \"5\", \"f\": 0.142}, {\"Question\": \"2014\", \"Rating\": \"1\", \"f\": 0.011}, {\"Question\": \"2014\", \"Rating\": \"2\", \"f\": 0.074}, {\"Question\": \"2014\", \"Rating\": \"3\", \"f\": 0.37}, {\"Question\": \"2014\", \"Rating\": \"4\", \"f\": 0.398}, {\"Question\": \"2014\", \"Rating\": \"5\", \"f\": 0.147}, {\"Question\": \"2015\", \"Rating\": \"1\", \"f\": 0.005}, {\"Question\": \"2015\", \"Rating\": \"2\", \"f\": 0.063}, {\"Question\": \"2015\", \"Rating\": \"3\", \"f\": 0.372}, {\"Question\": \"2015\", \"Rating\": \"4\", \"f\": 0.379}, {\"Question\": \"2015\", \"Rating\": \"5\", \"f\": 0.182}, {\"Question\": \"2016\", \"Rating\": \"1\", \"f\": 0.012}, {\"Question\": \"2016\", \"Rating\": \"2\", \"f\": 0.079}, {\"Question\": \"2016\", \"Rating\": \"3\", \"f\": 0.342}, {\"Question\": \"2016\", \"Rating\": \"4\", \"f\": 0.38}, {\"Question\": \"2016\", \"Rating\": \"5\", \"f\": 0.187}, {\"Question\": \"2017\", \"Rating\": \"1\", \"f\": 0.012}, {\"Question\": \"2017\", \"Rating\": \"2\", \"f\": 0.065}, {\"Question\": \"2017\", \"Rating\": \"3\", \"f\": 0.363}, {\"Question\": \"2017\", \"Rating\": \"4\", \"f\": 0.39}, {\"Question\": \"2017\", \"Rating\": \"5\", \"f\": 0.17}]}, \"mark\": \"bar\", \"encoding\": {\"color\": {\"type\": \"nominal\", \"field\": \"Rating\"}, \"x\": {\"type\": \"quantitative\", \"aggregate\": \"sum\", \"axis\": {\"format\": \"%\", \"title\": \"Percentage\"}, \"field\": \"f\"}, \"y\": {\"type\": \"ordinal\", \"axis\": {\"title\": \"Question\"}, \"field\": \"Question\"}}, \"title\": \"Retail shops & concessions\", \"$schema\": \"https://vega.github.io/schema/vega-lite/v2.4.1.json\"};\n",
       "var opt = {};\n",
       "var selector = \"#df8452d8-677a-4b60-a900-9a90429c33a2\";\n",
       "var type = \"vega-lite\";\n",
       "\n",
       "var output_area = this;\n",
       "\n",
       "require(['nbextensions/jupyter-vega3/index'], function(vega) {\n",
       "  vega.render(selector, spec, type, opt, output_area);\n",
       "}, function (err) {\n",
       "  if (err.requireType !== 'scripterror') {\n",
       "    throw(err);\n",
       "  }\n",
       "});\n"
      ]
     },
     "metadata": {
      "jupyter-vega3": "#df8452d8-677a-4b60-a900-9a90429c33a2"
     },
     "output_type": "display_data"
    },
    {
     "data": {
      "text/plain": []
     },
     "execution_count": 38,
     "metadata": {},
     "output_type": "execute_result"
    },
    {
     "data": {
      "image/png": "[encoded data removed]"
     },
     "metadata": {
      "jupyter-vega3": "#df8452d8-677a-4b60-a900-9a90429c33a2"
     },
     "output_type": "display_data"
    }
   ],
   "source": [
    "question='Retail shops & concessions'\n",
    "question_code=questions_dict [question]\n",
    "\n",
    "yaqu_f=pd.DataFrame(questions_data_dicts[question_code])\n",
    "yaqu_f=yaqu_f.sort_index(axis='index', ascending=True)\n",
    "yaqu_f.index.name = 'Rating'\n",
    "print ('Question:',question,'\\nData:\\n',yaqu_f)\n",
    "\n",
    "yaqu_f['Rating']=yaqu_f.index\n",
    "yaqu_f_m=pd.melt(frame=yaqu_f,id_vars='Rating',value_name='f') #melt yaqu_f to prepare for stacked bar chart\n",
    "yaqu_f_m.rename(columns = {'variable':'Question'}, inplace = True)\n",
    "yaqu_f_m=yaqu_f_m[['Question','Rating','f']]\n",
    "\n",
    "alt.Chart(yaqu_f_m).mark_bar().encode(\n",
    "        x=alt.X('sum(f)',axis=alt.Axis(format='%', title='Percentage')),\n",
    "        y=alt.Y('Question:O', axis=alt.Axis(title='Question')),\n",
    "        color='Rating:N'    \n",
    "        ).properties(\n",
    "             title=str(question),\n",
    "        )"
   ]
  },
  {
   "cell_type": "code",
   "execution_count": 39,
   "metadata": {
    "scrolled": true
   },
   "outputs": [
    {
     "name": "stdout",
     "output_type": "stream",
     "text": [
      "Question: Restaurants \n",
      "Data:\n",
      "          2010   2011   2012   2013   2014   2015   2016   2017\n",
      "Rating                                                        \n",
      "1       0.012  0.014  0.012  0.010  0.013  0.009  0.021  0.016\n",
      "2       0.087  0.081  0.068  0.085  0.085  0.078  0.087  0.090\n",
      "3       0.414  0.364  0.347  0.371  0.357  0.328  0.322  0.337\n",
      "4       0.380  0.394  0.409  0.389  0.399  0.393  0.380  0.378\n",
      "5       0.107  0.147  0.165  0.144  0.146  0.192  0.190  0.179\n"
     ]
    },
    {
     "data": {
      "text/html": [
       "<div class=\"vega-embed\" id=\"962b126a-dfbf-46a7-b640-4f9c74f85fb8\"></div>\n",
       "\n",
       "<style>\n",
       ".vega-embed .vega-actions > a {\n",
       "    transition: opacity 200ms ease-in;\n",
       "    opacity: 0.3;\n",
       "    margin-right: 0.6em;\n",
       "    color: #444;\n",
       "    text-decoration: none;\n",
       "}\n",
       "\n",
       ".vega-embed .vega-actions > a:hover {\n",
       "    color: #000;\n",
       "    text-decoration: underline;\n",
       "}\n",
       "\n",
       ".vega-embed:hover .vega-actions > a {\n",
       "    opacity: 1;\n",
       "    transition: 0s;\n",
       "}\n",
       "\n",
       ".vega-embed .error p {\n",
       "    color: firebrick;\n",
       "    font-size: 1.2em;\n",
       "}\n",
       "</style>\n"
      ]
     },
     "metadata": {
      "jupyter-vega3": "#962b126a-dfbf-46a7-b640-4f9c74f85fb8"
     },
     "output_type": "display_data"
    },
    {
     "data": {
      "application/javascript": [
       "var spec = {\"config\": {\"view\": {\"width\": 400, \"height\": 300}}, \"data\": {\"values\": [{\"Question\": \"2010\", \"Rating\": \"1\", \"f\": 0.012}, {\"Question\": \"2010\", \"Rating\": \"2\", \"f\": 0.087}, {\"Question\": \"2010\", \"Rating\": \"3\", \"f\": 0.414}, {\"Question\": \"2010\", \"Rating\": \"4\", \"f\": 0.38}, {\"Question\": \"2010\", \"Rating\": \"5\", \"f\": 0.107}, {\"Question\": \"2011\", \"Rating\": \"1\", \"f\": 0.014}, {\"Question\": \"2011\", \"Rating\": \"2\", \"f\": 0.081}, {\"Question\": \"2011\", \"Rating\": \"3\", \"f\": 0.364}, {\"Question\": \"2011\", \"Rating\": \"4\", \"f\": 0.394}, {\"Question\": \"2011\", \"Rating\": \"5\", \"f\": 0.147}, {\"Question\": \"2012\", \"Rating\": \"1\", \"f\": 0.012}, {\"Question\": \"2012\", \"Rating\": \"2\", \"f\": 0.068}, {\"Question\": \"2012\", \"Rating\": \"3\", \"f\": 0.347}, {\"Question\": \"2012\", \"Rating\": \"4\", \"f\": 0.409}, {\"Question\": \"2012\", \"Rating\": \"5\", \"f\": 0.165}, {\"Question\": \"2013\", \"Rating\": \"1\", \"f\": 0.01}, {\"Question\": \"2013\", \"Rating\": \"2\", \"f\": 0.085}, {\"Question\": \"2013\", \"Rating\": \"3\", \"f\": 0.371}, {\"Question\": \"2013\", \"Rating\": \"4\", \"f\": 0.389}, {\"Question\": \"2013\", \"Rating\": \"5\", \"f\": 0.144}, {\"Question\": \"2014\", \"Rating\": \"1\", \"f\": 0.013}, {\"Question\": \"2014\", \"Rating\": \"2\", \"f\": 0.085}, {\"Question\": \"2014\", \"Rating\": \"3\", \"f\": 0.357}, {\"Question\": \"2014\", \"Rating\": \"4\", \"f\": 0.399}, {\"Question\": \"2014\", \"Rating\": \"5\", \"f\": 0.146}, {\"Question\": \"2015\", \"Rating\": \"1\", \"f\": 0.009}, {\"Question\": \"2015\", \"Rating\": \"2\", \"f\": 0.078}, {\"Question\": \"2015\", \"Rating\": \"3\", \"f\": 0.328}, {\"Question\": \"2015\", \"Rating\": \"4\", \"f\": 0.393}, {\"Question\": \"2015\", \"Rating\": \"5\", \"f\": 0.192}, {\"Question\": \"2016\", \"Rating\": \"1\", \"f\": 0.021}, {\"Question\": \"2016\", \"Rating\": \"2\", \"f\": 0.087}, {\"Question\": \"2016\", \"Rating\": \"3\", \"f\": 0.322}, {\"Question\": \"2016\", \"Rating\": \"4\", \"f\": 0.38}, {\"Question\": \"2016\", \"Rating\": \"5\", \"f\": 0.19}, {\"Question\": \"2017\", \"Rating\": \"1\", \"f\": 0.016}, {\"Question\": \"2017\", \"Rating\": \"2\", \"f\": 0.09}, {\"Question\": \"2017\", \"Rating\": \"3\", \"f\": 0.337}, {\"Question\": \"2017\", \"Rating\": \"4\", \"f\": 0.378}, {\"Question\": \"2017\", \"Rating\": \"5\", \"f\": 0.179}]}, \"mark\": \"bar\", \"encoding\": {\"color\": {\"type\": \"nominal\", \"field\": \"Rating\"}, \"x\": {\"type\": \"quantitative\", \"aggregate\": \"sum\", \"axis\": {\"format\": \"%\", \"title\": \"Percentage\"}, \"field\": \"f\"}, \"y\": {\"type\": \"ordinal\", \"axis\": {\"title\": \"Question\"}, \"field\": \"Question\"}}, \"title\": \"Restaurants\", \"$schema\": \"https://vega.github.io/schema/vega-lite/v2.4.1.json\"};\n",
       "var opt = {};\n",
       "var selector = \"#962b126a-dfbf-46a7-b640-4f9c74f85fb8\";\n",
       "var type = \"vega-lite\";\n",
       "\n",
       "var output_area = this;\n",
       "\n",
       "require(['nbextensions/jupyter-vega3/index'], function(vega) {\n",
       "  vega.render(selector, spec, type, opt, output_area);\n",
       "}, function (err) {\n",
       "  if (err.requireType !== 'scripterror') {\n",
       "    throw(err);\n",
       "  }\n",
       "});\n"
      ]
     },
     "metadata": {
      "jupyter-vega3": "#962b126a-dfbf-46a7-b640-4f9c74f85fb8"
     },
     "output_type": "display_data"
    },
    {
     "data": {
      "text/plain": []
     },
     "execution_count": 39,
     "metadata": {},
     "output_type": "execute_result"
    },
    {
     "data": {
      "image/png": "[encoded data removed]"
     },
     "metadata": {
      "jupyter-vega3": "#962b126a-dfbf-46a7-b640-4f9c74f85fb8"
     },
     "output_type": "display_data"
    }
   ],
   "source": [
    "question='Restaurants'\n",
    "question_code=questions_dict [question]\n",
    "\n",
    "yaqu_f=pd.DataFrame(questions_data_dicts[question_code])\n",
    "yaqu_f=yaqu_f.sort_index(axis='index', ascending=True)\n",
    "yaqu_f.index.name = 'Rating'\n",
    "print ('Question:',question,'\\nData:\\n',yaqu_f)\n",
    "\n",
    "yaqu_f['Rating']=yaqu_f.index\n",
    "yaqu_f_m=pd.melt(frame=yaqu_f,id_vars='Rating',value_name='f') #melt yaqu_f to prepare for stacked bar chart\n",
    "yaqu_f_m.rename(columns = {'variable':'Question'}, inplace = True)\n",
    "yaqu_f_m=yaqu_f_m[['Question','Rating','f']]\n",
    "\n",
    "alt.Chart(yaqu_f_m).mark_bar().encode(\n",
    "        x=alt.X('sum(f)',axis=alt.Axis(format='%', title='Percentage')),\n",
    "        y=alt.Y('Question:O', axis=alt.Axis(title='Question')),\n",
    "        color='Rating:N'    \n",
    "        ).properties(\n",
    "             title=str(question),\n",
    "        )"
   ]
  },
  {
   "cell_type": "code",
   "execution_count": 40,
   "metadata": {
    "scrolled": true
   },
   "outputs": [
    {
     "name": "stdout",
     "output_type": "stream",
     "text": [
      "Question: Accessing & using free WiFi \n",
      "Data:\n",
      "          2013   2014   2015   2016   2017\n",
      "Rating                                   \n",
      "1       0.084  0.052  0.036  0.031  0.023\n",
      "2       0.091  0.064  0.052  0.055  0.049\n",
      "3       0.198  0.180  0.182  0.165  0.182\n",
      "4       0.343  0.327  0.306  0.317  0.316\n",
      "5       0.285  0.376  0.424  0.431  0.430\n"
     ]
    },
    {
     "data": {
      "text/html": [
       "<div class=\"vega-embed\" id=\"3f659e07-4d27-4a40-bb53-8be95e171ad9\"></div>\n",
       "\n",
       "<style>\n",
       ".vega-embed .vega-actions > a {\n",
       "    transition: opacity 200ms ease-in;\n",
       "    opacity: 0.3;\n",
       "    margin-right: 0.6em;\n",
       "    color: #444;\n",
       "    text-decoration: none;\n",
       "}\n",
       "\n",
       ".vega-embed .vega-actions > a:hover {\n",
       "    color: #000;\n",
       "    text-decoration: underline;\n",
       "}\n",
       "\n",
       ".vega-embed:hover .vega-actions > a {\n",
       "    opacity: 1;\n",
       "    transition: 0s;\n",
       "}\n",
       "\n",
       ".vega-embed .error p {\n",
       "    color: firebrick;\n",
       "    font-size: 1.2em;\n",
       "}\n",
       "</style>\n"
      ]
     },
     "metadata": {
      "jupyter-vega3": "#3f659e07-4d27-4a40-bb53-8be95e171ad9"
     },
     "output_type": "display_data"
    },
    {
     "data": {
      "application/javascript": [
       "var spec = {\"config\": {\"view\": {\"width\": 400, \"height\": 300}}, \"data\": {\"values\": [{\"Question\": \"2013\", \"Rating\": \"1\", \"f\": 0.084}, {\"Question\": \"2013\", \"Rating\": \"2\", \"f\": 0.091}, {\"Question\": \"2013\", \"Rating\": \"3\", \"f\": 0.198}, {\"Question\": \"2013\", \"Rating\": \"4\", \"f\": 0.343}, {\"Question\": \"2013\", \"Rating\": \"5\", \"f\": 0.285}, {\"Question\": \"2014\", \"Rating\": \"1\", \"f\": 0.052}, {\"Question\": \"2014\", \"Rating\": \"2\", \"f\": 0.064}, {\"Question\": \"2014\", \"Rating\": \"3\", \"f\": 0.18}, {\"Question\": \"2014\", \"Rating\": \"4\", \"f\": 0.327}, {\"Question\": \"2014\", \"Rating\": \"5\", \"f\": 0.376}, {\"Question\": \"2015\", \"Rating\": \"1\", \"f\": 0.036}, {\"Question\": \"2015\", \"Rating\": \"2\", \"f\": 0.052}, {\"Question\": \"2015\", \"Rating\": \"3\", \"f\": 0.182}, {\"Question\": \"2015\", \"Rating\": \"4\", \"f\": 0.306}, {\"Question\": \"2015\", \"Rating\": \"5\", \"f\": 0.424}, {\"Question\": \"2016\", \"Rating\": \"1\", \"f\": 0.031}, {\"Question\": \"2016\", \"Rating\": \"2\", \"f\": 0.055}, {\"Question\": \"2016\", \"Rating\": \"3\", \"f\": 0.165}, {\"Question\": \"2016\", \"Rating\": \"4\", \"f\": 0.317}, {\"Question\": \"2016\", \"Rating\": \"5\", \"f\": 0.431}, {\"Question\": \"2017\", \"Rating\": \"1\", \"f\": 0.023}, {\"Question\": \"2017\", \"Rating\": \"2\", \"f\": 0.049}, {\"Question\": \"2017\", \"Rating\": \"3\", \"f\": 0.182}, {\"Question\": \"2017\", \"Rating\": \"4\", \"f\": 0.316}, {\"Question\": \"2017\", \"Rating\": \"5\", \"f\": 0.43}]}, \"mark\": \"bar\", \"encoding\": {\"color\": {\"type\": \"nominal\", \"field\": \"Rating\"}, \"x\": {\"type\": \"quantitative\", \"aggregate\": \"sum\", \"axis\": {\"format\": \"%\", \"title\": \"Percentage\"}, \"field\": \"f\"}, \"y\": {\"type\": \"ordinal\", \"axis\": {\"title\": \"Question\"}, \"field\": \"Question\"}}, \"title\": \"Accessing & using free WiFi\", \"$schema\": \"https://vega.github.io/schema/vega-lite/v2.4.1.json\"};\n",
       "var opt = {};\n",
       "var selector = \"#3f659e07-4d27-4a40-bb53-8be95e171ad9\";\n",
       "var type = \"vega-lite\";\n",
       "\n",
       "var output_area = this;\n",
       "\n",
       "require(['nbextensions/jupyter-vega3/index'], function(vega) {\n",
       "  vega.render(selector, spec, type, opt, output_area);\n",
       "}, function (err) {\n",
       "  if (err.requireType !== 'scripterror') {\n",
       "    throw(err);\n",
       "  }\n",
       "});\n"
      ]
     },
     "metadata": {
      "jupyter-vega3": "#3f659e07-4d27-4a40-bb53-8be95e171ad9"
     },
     "output_type": "display_data"
    },
    {
     "data": {
      "text/plain": []
     },
     "execution_count": 40,
     "metadata": {},
     "output_type": "execute_result"
    },
    {
     "data": {
      "image/png": "[encoded data removed]"
     },
     "metadata": {
      "jupyter-vega3": "#3f659e07-4d27-4a40-bb53-8be95e171ad9"
     },
     "output_type": "display_data"
    }
   ],
   "source": [
    "question='Accessing & using free WiFi'\n",
    "question_code=questions_dict [question]\n",
    "\n",
    "yaqu_f=pd.DataFrame(questions_data_dicts[question_code])\n",
    "yaqu_f=yaqu_f.sort_index(axis='index', ascending=True)\n",
    "yaqu_f.index.name = 'Rating'\n",
    "print ('Question:',question,'\\nData:\\n',yaqu_f)\n",
    "\n",
    "yaqu_f['Rating']=yaqu_f.index\n",
    "yaqu_f_m=pd.melt(frame=yaqu_f,id_vars='Rating',value_name='f') #melt yaqu_f to prepare for stacked bar chart\n",
    "yaqu_f_m.rename(columns = {'variable':'Question'}, inplace = True)\n",
    "yaqu_f_m=yaqu_f_m[['Question','Rating','f']]\n",
    "\n",
    "alt.Chart(yaqu_f_m).mark_bar().encode(\n",
    "        x=alt.X('sum(f)',axis=alt.Axis(format='%', title='Percentage')),\n",
    "        y=alt.Y('Question:O', axis=alt.Axis(title='Question')),\n",
    "        color='Rating:N'    \n",
    "        ).properties(\n",
    "             title=str(question),\n",
    "        )"
   ]
  },
  {
   "cell_type": "code",
   "execution_count": 30,
   "metadata": {},
   "outputs": [
    {
     "data": {
      "text/html": [
       "<script>\n",
       "code_show=true; \n",
       "function code_toggle() {\n",
       " if (code_show){\n",
       " $('div.input').hide();\n",
       " } else {\n",
       " $('div.input').show();\n",
       " }\n",
       " code_show = !code_show\n",
       "} \n",
       "$( document ).ready(code_toggle);\n",
       "</script>\n",
       "The raw code for this IPython notebook is by default hidden for easier reading.\n",
       "To toggle on/off the raw code, click <a href=\"javascript:code_toggle()\">here</a>."
      ],
      "text/plain": [
       "<IPython.core.display.HTML object>"
      ]
     },
     "execution_count": 30,
     "metadata": {},
     "output_type": "execute_result"
    }
   ],
   "source": [
    "from IPython.display import HTML\n",
    "HTML('''<script>\n",
    "code_show=true; \n",
    "function code_toggle() {\n",
    " if (code_show){\n",
    " $('div.input').hide();\n",
    " } else {\n",
    " $('div.input').show();\n",
    " }\n",
    " code_show = !code_show\n",
    "} \n",
    "$( document ).ready(code_toggle);\n",
    "</script>\n",
    "The raw code for this IPython notebook is by default hidden for easier reading.\n",
    "To toggle on/off the raw code, click <a href=\"javascript:code_toggle()\">here</a>.''')"
   ]
  }
 ],
 "metadata": {
  "kernelspec": {
   "display_name": "Python 3",
   "language": "python",
   "name": "python3"
  },
  "language_info": {
   "codemirror_mode": {
    "name": "ipython",
    "version": 3
   },
   "file_extension": ".py",
   "mimetype": "text/x-python",
   "name": "python",
   "nbconvert_exporter": "python",
   "pygments_lexer": "ipython3",
   "version": "3.6.4"
  }
 },
 "nbformat": 4,
 "nbformat_minor": 2
}
